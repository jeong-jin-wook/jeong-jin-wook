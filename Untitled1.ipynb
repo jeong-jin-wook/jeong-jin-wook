{
  "nbformat": 4,
  "nbformat_minor": 0,
  "metadata": {
    "colab": {
      "private_outputs": true,
      "provenance": [],
      "authorship_tag": "ABX9TyObVAGlEyWfSDdka8Q860z/",
      "include_colab_link": true
    },
    "kernelspec": {
      "name": "python3",
      "display_name": "Python 3"
    },
    "language_info": {
      "name": "python"
    }
  },
  "cells": [
    {
      "cell_type": "markdown",
      "metadata": {
        "id": "view-in-github",
        "colab_type": "text"
      },
      "source": [
        "<a href=\"https://colab.research.google.com/github/jeong-jin-wook/jeong-jin-wook/blob/main/Untitled1.ipynb\" target=\"_parent\"><img src=\"https://colab.research.google.com/assets/colab-badge.svg\" alt=\"Open In Colab\"/></a>"
      ]
    },
    {
      "cell_type": "code",
      "execution_count": null,
      "metadata": {
        "id": "67KTUnJQ5Tru"
      },
      "outputs": [],
      "source": [
        "import math\n",
        "import numpy as np"
      ]
    },
    {
      "cell_type": "code",
      "source": [
        "a= math.sqrt(10)"
      ],
      "metadata": {
        "id": "dLQvOq295gU-"
      },
      "execution_count": null,
      "outputs": []
    },
    {
      "cell_type": "code",
      "source": [
        "print(a)"
      ],
      "metadata": {
        "id": "m2hAxqFX5j76"
      },
      "execution_count": null,
      "outputs": []
    },
    {
      "cell_type": "code",
      "source": [
        "np.sqrt(600**2+550**2)"
      ],
      "metadata": {
        "id": "A8h84thF5k-F"
      },
      "execution_count": null,
      "outputs": []
    },
    {
      "cell_type": "code",
      "source": [
        "watch =100000\n",
        "lighter =300\n",
        "watch+lighter"
      ],
      "metadata": {
        "id": "dQoF0_SUA2yf"
      },
      "execution_count": null,
      "outputs": []
    },
    {
      "cell_type": "code",
      "source": [
        "price = 5000\n",
        "price *=0.85\n",
        "price"
      ],
      "metadata": {
        "id": "nQbbdZGuEP3Q"
      },
      "execution_count": null,
      "outputs": []
    },
    {
      "cell_type": "code",
      "source": [
        "a = 'pig'\n",
        "b = 'hap'\n",
        "a+b"
      ],
      "metadata": {
        "id": "O_cMYlVqEl1n"
      },
      "execution_count": null,
      "outputs": []
    },
    {
      "cell_type": "code",
      "source": [
        "r=800\n",
        "t=110\n",
        "anwser = r*t/1000\n",
        "print(str(anwser)+'mb')"
      ],
      "metadata": {
        "id": "QVhc_YNMHnlH"
      },
      "execution_count": null,
      "outputs": []
    },
    {
      "cell_type": "code",
      "source": [
        "family =['mother','father','gentleman','dd']\n",
        "len(family)"
      ],
      "metadata": {
        "id": "wAiey-5wEjcc"
      },
      "execution_count": null,
      "outputs": []
    },
    {
      "cell_type": "code",
      "source": [
        "family[2]"
      ],
      "metadata": {
        "id": "epI9xhZJJKvW"
      },
      "execution_count": null,
      "outputs": []
    },
    {
      "cell_type": "code",
      "source": [
        "leg = int(input('변의 길이: '))\n",
        "for i in range(leg):\n",
        "    print('* '* (i+1))\n",
        "area =(leg**2)/2\n",
        "print('넓이: ',area)"
      ],
      "metadata": {
        "id": "6KFwAMHiKMAU"
      },
      "execution_count": null,
      "outputs": []
    },
    {
      "cell_type": "code",
      "source": [
        "3**2"
      ],
      "metadata": {
        "id": "pphG5cshKoiT"
      },
      "execution_count": null,
      "outputs": []
    },
    {
      "cell_type": "code",
      "source": [],
      "metadata": {
        "id": "GC3qWolQTngI"
      },
      "execution_count": null,
      "outputs": []
    },
    {
      "cell_type": "code",
      "source": [
        "num = input('num: ')\n",
        "print(int(num)**2)"
      ],
      "metadata": {
        "id": "gZBHBQmfTg2g"
      },
      "execution_count": null,
      "outputs": []
    },
    {
      "cell_type": "markdown",
      "source": [],
      "metadata": {
        "id": "Hp4iPPx8Tb9-"
      }
    },
    {
      "cell_type": "code",
      "source": [
        "import numpy as np\n",
        "num = int(input(\"\"))\n",
        "arr=np.array\n"
      ],
      "metadata": {
        "id": "plFKMQ_iwwak"
      },
      "execution_count": null,
      "outputs": []
    },
    {
      "cell_type": "code",
      "source": [
        "import numpy as np\n",
        "num = int(input())\n",
        "temp=1\n",
        "arr = np.full((num,2),0)\n",
        "for a in arr:\n",
        "    a[0]=temp\n",
        "    a[1]=temp**2\n",
        "    temp +=1\n",
        "\n",
        "for a in arr:\n",
        "    print(a.item(0)+' '+a.item(1))"
      ],
      "metadata": {
        "id": "1Vy7ojxb2hMN"
      },
      "execution_count": null,
      "outputs": []
    },
    {
      "cell_type": "markdown",
      "source": [],
      "metadata": {
        "id": "Yt1OHa73ukiS"
      }
    },
    {
      "cell_type": "code",
      "source": [
        "num = int(input(''))\n",
        "a = 0\n",
        "while a<10:\n",
        "    a +=1\n",
        "    num *= 0.6\n",
        "    print(round(num,4))\n"
      ],
      "metadata": {
        "id": "Q6xENnjf3oau"
      },
      "execution_count": null,
      "outputs": []
    },
    {
      "cell_type": "markdown",
      "source": [
        "\n",
        "\n",
        "---\n",
        "\n"
      ],
      "metadata": {
        "id": "C3AFYTOkA12-"
      }
    },
    {
      "cell_type": "markdown",
      "source": [],
      "metadata": {
        "id": "E3iSMgsBppTQ"
      }
    },
    {
      "cell_type": "code",
      "source": [
        "number = 358\n",
        "\n",
        "rem = rev = 0\n",
        "while number >= 1:\n",
        "    rem = number % 10\n",
        "    rev = rev * 10 + rem\n",
        "    number = number // 10\n",
        "\n",
        "print(rev)"
      ],
      "metadata": {
        "id": "BRFMo7bk3oOr"
      },
      "execution_count": null,
      "outputs": []
    },
    {
      "cell_type": "code",
      "source": [
        "a = [0,1,2,3,4]\n",
        "for d in a:\n",
        "    if(d == 3):\n",
        "        break\n",
        "    print(d)"
      ],
      "metadata": {
        "id": "fwt_zZ2VzsY4"
      },
      "execution_count": null,
      "outputs": []
    },
    {
      "cell_type": "code",
      "source": [
        "i=0\n",
        "while  i<10:\n",
        "    i+=1\n",
        "    if i%2==0:\n",
        "        pass\n",
        "    print(i)"
      ],
      "metadata": {
        "id": "25peFGUVpqD7"
      },
      "execution_count": null,
      "outputs": []
    },
    {
      "cell_type": "code",
      "source": [
        "sumz = 0\n",
        "while 1 :\n",
        "    zz = int(input(''))\n",
        "    if zz < 0:\n",
        "        break\n",
        "    else:\n",
        "        sumz += zz\n",
        "print(sumz)"
      ],
      "metadata": {
        "id": "CnXuFSA8qPyH"
      },
      "execution_count": null,
      "outputs": []
    },
    {
      "cell_type": "code",
      "source": [
        "##윤년 판단하기\n",
        "while 1:\n",
        "    try:\n",
        "        year = int(input(''))\n",
        "        print('윤년') if year%4 == 0 and year %100 !=0 or year%400==0 else print('')\n",
        "    except:\n",
        "        print('예외')"
      ],
      "metadata": {
        "id": "qwt78gNTv3ZA"
      },
      "execution_count": null,
      "outputs": []
    },
    {
      "cell_type": "code",
      "source": [
        "s = 'banana'\n",
        "if 'a' in s and'b'in s:\n",
        "    print('a b 있을수도 ')\n",
        "print( 'a' in s)"
      ],
      "metadata": {
        "id": "cORQwBwBeA8k"
      },
      "execution_count": null,
      "outputs": []
    },
    {
      "cell_type": "code",
      "source": [
        "year = int(input('what year were you born?'))\n",
        "if year <= 1924 :\n",
        "    print('가장 위대한 세대')\n",
        "elif year <= 1945 :\n",
        "    print('침묵 세대')\n",
        "elif year <= 1963 and year >=1955 :\n",
        "    print('베이비 부머')\n",
        "elif year >=1965 and year <= 1980 :\n",
        "    print('x세대')\n",
        "elif year <= 1996 and year >=1981:\n",
        "    print('밀레니얼')\n",
        "elif year>=1997:\n",
        "    print('z세대')\n",
        "elif year >=1946 and year <=1954:\n",
        "    print('침묵 세대') if input('korean? ').lower()[0] =='y' else print('베이비 부머')"
      ],
      "metadata": {
        "id": "SXGe6cmxfK0v"
      },
      "execution_count": null,
      "outputs": []
    },
    {
      "cell_type": "markdown",
      "source": [],
      "metadata": {
        "id": "qrmtg1H53n8u"
      }
    },
    {
      "cell_type": "code",
      "source": [
        "list(range(2,7))\n",
        "for i in range(4,8):\n",
        "    print(i)"
      ],
      "metadata": {
        "id": "KIuAcyO4lUhC"
      },
      "execution_count": null,
      "outputs": []
    },
    {
      "cell_type": "code",
      "source": [
        "num = int(input(''))\n",
        "for a in range(num):\n",
        "    print('',num)"
      ],
      "metadata": {
        "id": "CNel9dGGltmJ"
      },
      "execution_count": null,
      "outputs": []
    },
    {
      "cell_type": "markdown",
      "source": [],
      "metadata": {
        "id": "yxrERb6JpcBO"
      }
    },
    {
      "cell_type": "markdown",
      "source": [],
      "metadata": {
        "id": "d_X0xy2BqL9r"
      }
    },
    {
      "cell_type": "markdown",
      "source": [],
      "metadata": {
        "id": "hQBVXU2cqL4R"
      }
    },
    {
      "cell_type": "code",
      "source": [
        "min_val,max_val =input().split()\n",
        "res =''\n",
        "val = 0\n",
        "while val !=-999:\n",
        "    val = int(input())\n",
        "    if val >max_val or val < min_val:\n",
        "        res +='Alert!'\n",
        "        break\n",
        "    res +='Nothing to report\\n'\n",
        "print(res)\n"
      ],
      "metadata": {
        "id": "xOW5Mp-5pZSZ"
      },
      "execution_count": null,
      "outputs": []
    },
    {
      "cell_type": "code",
      "source": [
        "for n in range(1,11):\n",
        "    match n % 2:\n",
        "        case 0:\n",
        "            print (f\"{n} is even.\")\n",
        "        case 1:\n",
        "            print(f\"{n} is odd\")"
      ],
      "metadata": {
        "id": "bwDRFSOULVKj"
      },
      "execution_count": null,
      "outputs": []
    },
    {
      "cell_type": "code",
      "source": [
        "for x in [1,2,3,4]:\n",
        "    print(x)\n",
        "    break\n",
        "else:\n",
        "    print(\"리스트의 원소를 모두 출력했어요\")\n"
      ],
      "metadata": {
        "id": "8Bb7aESaLuUF"
      },
      "execution_count": null,
      "outputs": []
    },
    {
      "cell_type": "code",
      "source": [
        "a_list = [3,4,62,27,83,956,26,58,3,78,168,64,78]\n",
        "len([1,2])"
      ],
      "metadata": {
        "id": "ABz4kuoNNSSd"
      },
      "execution_count": null,
      "outputs": []
    },
    {
      "cell_type": "code",
      "source": [
        "def quiz():\n",
        "    ans = input('1 + 2 = ')\n",
        "    return 1 + 2 == int(ans)\n",
        "quiz()"
      ],
      "metadata": {
        "id": "Xm4eC5aUuiqE"
      },
      "execution_count": null,
      "outputs": []
    },
    {
      "cell_type": "code",
      "source": [
        "def korean_number(n):\n",
        "    match n:\n",
        "        case 1:\n",
        "            print('일')\n",
        "        case 2:\n",
        "            print('이')\n",
        "        case 3:\n",
        "            print('삼')\n",
        "        case default:\n",
        "            print()\n",
        "\n",
        "korean_number(5)"
      ],
      "metadata": {
        "id": "B0OQiaekyLzW"
      },
      "execution_count": null,
      "outputs": []
    },
    {
      "cell_type": "code",
      "source": [
        "def triple(x):\n",
        "    print(x*3)\n",
        "triple(2)\n",
        "triple('x')"
      ],
      "metadata": {
        "id": "eKufRYt8zSQA"
      },
      "execution_count": null,
      "outputs": []
    },
    {
      "cell_type": "code",
      "source": [
        "def myAge(year):\n",
        "    from datetime import datetime\n",
        "    today = datetime.today\n",
        "    return today\n",
        "print(myAge(1998))"
      ],
      "metadata": {
        "id": "BaNlRF2hzc7z"
      },
      "execution_count": null,
      "outputs": []
    },
    {
      "cell_type": "code",
      "source": [
        "def simple_interest(p,r,t):\n",
        "    return p*r*t\n",
        "simple_interest(10000000, 0.03875, 5)\n",
        "simple_interest(1100000, 0.05, 5/12)\n",
        "\n",
        "def simple_interest_amount(p,r,t):\n",
        "    return  p * (1 + r * t)\n",
        "\n",
        "simple_interest_amount(1100000, 0.05, 5/12)"
      ],
      "metadata": {
        "id": "yHA35MQX1X81"
      },
      "execution_count": null,
      "outputs": []
    },
    {
      "cell_type": "markdown",
      "source": [],
      "metadata": {
        "id": "AsH7MLBrzzeY"
      }
    },
    {
      "cell_type": "code",
      "source": [
        "def compound_interest_amount(p,r,t,n):\n",
        "      return p * (1 + r / n) ** (n * t)\n",
        "compound_interest_amount(1500000, 0.043, 6, 4)\n",
        "compound_interest_amount(1500000, 0.043, 6, 1/2)"
      ],
      "metadata": {
        "id": "Mt6kBaAH3grH"
      },
      "execution_count": null,
      "outputs": []
    },
    {
      "cell_type": "code",
      "source": [
        "def e_is_10():\n",
        "    global e\n",
        "    e = 10\n",
        "    print(e)\n",
        "e_is_10()\n",
        "e"
      ],
      "metadata": {
        "id": "yANuG8Lb7kr7"
      },
      "execution_count": null,
      "outputs": []
    },
    {
      "cell_type": "code",
      "source": [
        "list(map(lambda x: x ** 2, range(5)))\n"
      ],
      "metadata": {
        "id": "BZyzAyD4_JHo"
      },
      "execution_count": null,
      "outputs": []
    }
  ]
}